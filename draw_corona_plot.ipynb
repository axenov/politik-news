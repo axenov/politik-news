{
 "cells": [
  {
   "cell_type": "code",
   "execution_count": null,
   "metadata": {
    "scrolled": true
   },
   "outputs": [],
   "source": [
    "from nlp import load_dataset\n",
    "import pandas as pd"
   ]
  },
  {
   "cell_type": "code",
   "execution_count": null,
   "metadata": {},
   "outputs": [],
   "source": [
    "#Check is the article about Coronavirus\n",
    "def about_corona(text):\n",
    "    covid_terms = ['corona','Corona','CORONA','covid','Covid','COVID']\n",
    "    for term in covid_terms:\n",
    "        if term in text:\n",
    "            return 1\n",
    "    return 0"
   ]
  },
  {
   "cell_type": "code",
   "execution_count": null,
   "metadata": {},
   "outputs": [],
   "source": [
    "#Load data\n",
    "savefolder = 'data'\n",
    "dataset = load_dataset('de_politik_news.py',cache_dir=savefolder)"
   ]
  },
  {
   "cell_type": "code",
   "execution_count": null,
   "metadata": {},
   "outputs": [],
   "source": [
    "#Filter articles not from 2020\n",
    "dataset_2020 = dataset['train'].filter(lambda inst: inst['date'] != '' \n",
    "                                       and int(inst['date'].split('-')[0]) ==2020 \n",
    "                                       and int(inst['date'].split('-')[1]) <8)"
   ]
  },
  {
   "cell_type": "code",
   "execution_count": null,
   "metadata": {},
   "outputs": [],
   "source": [
    "#Find articles about Corona\n",
    "dataset_corona = dataset_2020.map(lambda inst: {'corona': about_corona(inst['text'])})\n",
    "df = pd.DataFrame({'corona': dataset_corona['corona'], 'datetime': pd.to_datetime(dataset_corona['date'])})\n",
    "df['not_corona'] = 1- df['corona']"
   ]
  },
  {
   "cell_type": "code",
   "execution_count": null,
   "metadata": {},
   "outputs": [],
   "source": [
    "import matplotlib.pyplot as plt\n",
    "import numpy as np\n",
    "import matplotlib.dates as mdates\n",
    "from matplotlib.ticker import NullFormatter\n",
    "%matplotlib inline\n",
    "from pandas.plotting import register_matplotlib_converters\n",
    "register_matplotlib_converters()\n",
    "plt.style.use('dark_background')\n"
   ]
  },
  {
   "cell_type": "code",
   "execution_count": null,
   "metadata": {},
   "outputs": [],
   "source": [
    "df_grouped = df.set_index('datetime').groupby(pd.Grouper(freq='w')).sum()\n",
    "def draw_plot(df_grouped):\n",
    "    data = df_grouped.to_numpy().T\n",
    "    data = 100 * data / data.sum(axis=0)\n",
    "    months = df_grouped.index.to_numpy().T.astype('M8[ms]').astype('O')\n",
    "    #months = [day.date() for day in months]\n",
    "    \n",
    "    fig, ax = plt.subplots(figsize=(13, 7))\n",
    "\n",
    "    ax.stackplot(months, data, labels=['About Covid-19', 'Not about Covid-19'],colors=['tab:orange','tab:blue'])\n",
    "    ax.set_title('Presentce of Covid-19 in German Media', size=20)\n",
    "    ax.legend(loc='upper left',fontsize=15)\n",
    "    ax.set_ylabel('Percentage of articles',size=20)\n",
    "    ax.set_ylim(ymin=0, ymax=100)\n",
    "    #ax.set_xlim([months[0], months[-1]])\n",
    "    #ax.set_xlim([datetime.date(2019, 1, 1), datetime.date(2021, 7, 31)])\n",
    "\n",
    "    ax.xaxis.set_major_locator(mdates.MonthLocator())\n",
    "    ax.xaxis.set_minor_locator(mdates.MonthLocator(bymonthday=15))\n",
    "    ax.xaxis.set_major_formatter(NullFormatter())\n",
    "    ax.xaxis.set_minor_formatter(mdates.DateFormatter('%b'))\n",
    "    \n",
    "    ax.tick_params(which='minor', axis=\"x\", labelsize=15)\n",
    "    ax.tick_params(axis=\"y\", labelsize=15)\n",
    "\n",
    "    plt.gcf().autofmt_xdate()\n",
    "#with plt.style.context('fivethirtyeight'):\n",
    "draw_plot(df_grouped)"
   ]
  },
  {
   "cell_type": "code",
   "execution_count": null,
   "metadata": {},
   "outputs": [],
   "source": []
  },
  {
   "cell_type": "code",
   "execution_count": null,
   "metadata": {},
   "outputs": [],
   "source": []
  },
  {
   "cell_type": "code",
   "execution_count": null,
   "metadata": {},
   "outputs": [],
   "source": []
  },
  {
   "cell_type": "code",
   "execution_count": null,
   "metadata": {},
   "outputs": [],
   "source": []
  }
 ],
 "metadata": {
  "kernelspec": {
   "display_name": "Python 3",
   "language": "python",
   "name": "python3"
  },
  "language_info": {
   "codemirror_mode": {
    "name": "ipython",
    "version": 3
   },
   "file_extension": ".py",
   "mimetype": "text/x-python",
   "name": "python",
   "nbconvert_exporter": "python",
   "pygments_lexer": "ipython3",
   "version": "3.6.8"
  }
 },
 "nbformat": 4,
 "nbformat_minor": 2
}
